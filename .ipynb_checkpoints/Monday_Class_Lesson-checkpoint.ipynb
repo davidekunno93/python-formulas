{
 "cells": [
  {
   "cell_type": "code",
   "execution_count": 3,
   "id": "5634b6ce",
   "metadata": {},
   "outputs": [
    {
     "name": "stdout",
     "output_type": "stream",
     "text": [
      "6\n",
      "1\n"
     ]
    }
   ],
   "source": [
    "num = 1\n",
    "num1 = 5\n",
    "num2 = 10\n",
    "num3 = 53\n",
    "addresult = num + num1\n",
    "print(addresult)\n",
    "\n",
    "nextnum = 0\n",
    "nextnum += 1\n",
    "print(nextnum)"
   ]
  },
  {
   "cell_type": "code",
   "execution_count": 4,
   "id": "9bca9dc2",
   "metadata": {},
   "outputs": [
    {
     "name": "stdout",
     "output_type": "stream",
     "text": [
      "-1\n"
     ]
    }
   ],
   "source": [
    "nextnum -= 2\n",
    "print(nextnum)"
   ]
  },
  {
   "cell_type": "code",
   "execution_count": 5,
   "id": "2704473a",
   "metadata": {},
   "outputs": [
    {
     "name": "stdout",
     "output_type": "stream",
     "text": [
      "50\n"
     ]
    }
   ],
   "source": [
    "product = num1*num2\n",
    "print(product)"
   ]
  },
  {
   "cell_type": "code",
   "execution_count": 6,
   "id": "3d5668bd",
   "metadata": {},
   "outputs": [
    {
     "name": "stdout",
     "output_type": "stream",
     "text": [
      "2\n"
     ]
    }
   ],
   "source": [
    "twoslash = num2 // num1\n",
    "print(twoslash)"
   ]
  },
  {
   "cell_type": "code",
   "execution_count": null,
   "id": "a64e6325",
   "metadata": {},
   "outputs": [],
   "source": []
  },
  {
   "cell_type": "code",
   "execution_count": 9,
   "id": "2089e1ca",
   "metadata": {},
   "outputs": [
    {
     "name": "stdout",
     "output_type": "stream",
     "text": [
      "5.0\n"
     ]
    }
   ],
   "source": [
    "import math\n",
    "root = math.sqrt(25)\n",
    "print(root)"
   ]
  },
  {
   "cell_type": "code",
   "execution_count": 10,
   "id": "d17d8241",
   "metadata": {},
   "outputs": [
    {
     "name": "stdout",
     "output_type": "stream",
     "text": [
      "David!\n"
     ]
    }
   ],
   "source": [
    "name = \"David\"\n",
    "name += \"!\"\n",
    "print(name)\n",
    "name -= \"!\"\n",
    "print(name)\n"
   ]
  },
  {
   "cell_type": "code",
   "execution_count": 13,
   "id": "b1150cb3",
   "metadata": {},
   "outputs": [
    {
     "name": "stdout",
     "output_type": "stream",
     "text": [
      "You're 29 David, getting old friend!\n"
     ]
    }
   ],
   "source": [
    "age = 29\n",
    "name = \"David\"\n",
    "res_string = \"You're {} {}, getting old friend!\".format(age, name)\n",
    "print(res_string)"
   ]
  },
  {
   "cell_type": "code",
   "execution_count": 15,
   "id": "35d2b2f9",
   "metadata": {},
   "outputs": [
    {
     "name": "stdout",
     "output_type": "stream",
     "text": [
      "You're 29 David, getting old friend!\n"
     ]
    }
   ],
   "source": [
    "print(f\"You're {age} {name}, getting old friend!\")"
   ]
  },
  {
   "cell_type": "code",
   "execution_count": null,
   "id": "4197d523",
   "metadata": {},
   "outputs": [],
   "source": []
  },
  {
   "cell_type": "code",
   "execution_count": 18,
   "id": "d05f4634",
   "metadata": {},
   "outputs": [
    {
     "name": "stdout",
     "output_type": "stream",
     "text": [
      "What is the color of your car?: black\n",
      "What year was your car made?: 2018\n",
      "What is the make of your car?: Nissan\n",
      "What is the model of your car?: sentra\n",
      "\n",
      "Hey guy, you own a black Nissan sentra made in the year 2018!\n"
     ]
    }
   ],
   "source": [
    "color = input(\"What is the color of your car?: \")\n",
    "year = input(\"What year was your car made?: \")\n",
    "make = input(\"What is the make of your car?: \")\n",
    "model = input(\"What is the model of your car?: \")\n",
    "print(f\"\\nHey guy, you own a {color} {make} {model} made in the year {year}!\")"
   ]
  },
  {
   "cell_type": "code",
   "execution_count": null,
   "id": "ecdab0e9",
   "metadata": {},
   "outputs": [],
   "source": [
    "text = input(\"type a word: \")\n",
    "if \"p\" in text:\n",
    "    print(\"\\nThere's a letter 'p' in your word\")\n",
    "else:\n",
    "    print(\"\\nThere's no letter 'p' in your word\")"
   ]
  },
  {
   "cell_type": "code",
   "execution_count": 29,
   "id": "4f60df05",
   "metadata": {},
   "outputs": [
    {
     "name": "stdout",
     "output_type": "stream",
     "text": [
      "0\n",
      "1\n",
      "8\n",
      "27\n",
      "64\n",
      "125\n",
      "216\n",
      "343\n",
      "512\n",
      "729\n",
      "1000\n"
     ]
    }
   ],
   "source": [
    "#Cube numbers to 1000\n",
    "num = 0\n",
    "ans = 0\n",
    "while ans < 1000:\n",
    "    ans = num ** 3\n",
    "    print(ans)\n",
    "    num += 1"
   ]
  },
  {
   "cell_type": "code",
   "execution_count": 94,
   "id": "2e3c896f",
   "metadata": {},
   "outputs": [
    {
     "name": "stdout",
     "output_type": "stream",
     "text": [
      "[1, 2, 3, 5, 7, 11, 13, 17, 19, 23, 29, 31, 37, 41, 43, 47, 53, 59, 61, 67, 71, 73, 79, 83, 89, 97]\n"
     ]
    }
   ],
   "source": [
    "#Get first prime numbers until 100\n",
    "range100 = [x for x in range(1,101)]\n",
    "no_prime_set = {0,0}\n",
    "for num in range100:\n",
    "    for d in range(2, num):\n",
    "        if num % d == 0:\n",
    "            no_prime_set.add(num)\n",
    "            \n",
    "no_prime_list = list(no_prime_set)   \n",
    "prime_list = [num for num in range100 if num not in no_prime_set]\n",
    "print(prime_list)\n",
    "\n",
    "        \n",
    "            \n"
   ]
  },
  {
   "cell_type": "code",
   "execution_count": null,
   "id": "2f26d6bd",
   "metadata": {},
   "outputs": [],
   "source": [
    "#Categorize user input age into different age groups\n",
    "while True:\n",
    "    try:\n",
    "        age = int(input(\"Enter your age: \"))\n",
    "        break\n",
    "    except:\n",
    "        print(\"Please enter a valid input\")    \n",
    "\n",
    "if age < 18:\n",
    "    category = \"kids\"\n",
    "elif age >= 18 and age < 65:\n",
    "    category = \"adults\"\n",
    "elif age >= 65:\n",
    "    category = \"seniors\"\n",
    "    \n",
    "print(f\"Your age puts you in the {category} category.\")"
   ]
  },
  {
   "cell_type": "code",
   "execution_count": null,
   "id": "7bcd4c32",
   "metadata": {},
   "outputs": [],
   "source": []
  }
 ],
 "metadata": {
  "kernelspec": {
   "display_name": "Python 3 (ipykernel)",
   "language": "python",
   "name": "python3"
  },
  "language_info": {
   "codemirror_mode": {
    "name": "ipython",
    "version": 3
   },
   "file_extension": ".py",
   "mimetype": "text/x-python",
   "name": "python",
   "nbconvert_exporter": "python",
   "pygments_lexer": "ipython3",
   "version": "3.10.9"
  }
 },
 "nbformat": 4,
 "nbformat_minor": 5
}
