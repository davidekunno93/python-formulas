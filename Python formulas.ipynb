{
 "cells": [
  {
   "cell_type": "code",
   "execution_count": null,
   "id": "8f8171c1",
   "metadata": {},
   "outputs": [],
   "source": [
    "#Cube numbers to 1000\n",
    "num = 0\n",
    "ans = 0\n",
    "while ans < 1000:\n",
    "    ans = num ** 3\n",
    "    print(ans)\n",
    "    num += 1"
   ]
  },
  {
   "cell_type": "code",
   "execution_count": null,
   "id": "7c624954",
   "metadata": {},
   "outputs": [],
   "source": [
    "#Get first prime numbers until 100\n",
    "range100 = [x for x in range(1,101)]\n",
    "no_prime_set = {0,0}\n",
    "for num in range100:\n",
    "    for d in range(2, num):\n",
    "        if num % d == 0:\n",
    "            no_prime_set.add(num)\n",
    "            \n",
    "no_prime_list = list(no_prime_set)   \n",
    "prime_list = [num for num in range100 if num not in no_prime_set]\n",
    "print(prime_list)"
   ]
  },
  {
   "cell_type": "code",
   "execution_count": null,
   "id": "c7a5c2b5",
   "metadata": {},
   "outputs": [],
   "source": [
    "#Categorize user input age into different age groups\n",
    "while True:\n",
    "    try:\n",
    "        age = int(input(\"Enter your age: \"))\n",
    "        break\n",
    "    except:\n",
    "        print(\"Please enter a valid input\")    \n",
    "\n",
    "if age < 18:\n",
    "    category = \"kids\"\n",
    "elif age >= 18 and age < 65:\n",
    "    category = \"adults\"\n",
    "elif age >= 65:\n",
    "    category = \"seniors\"\n",
    "    \n",
    "print(f\"Your age puts you in the {category} category.\")"
   ]
  }
 ],
 "metadata": {
  "kernelspec": {
   "display_name": "Python 3 (ipykernel)",
   "language": "python",
   "name": "python3"
  },
  "language_info": {
   "codemirror_mode": {
    "name": "ipython",
    "version": 3
   },
   "file_extension": ".py",
   "mimetype": "text/x-python",
   "name": "python",
   "nbconvert_exporter": "python",
   "pygments_lexer": "ipython3",
   "version": "3.10.9"
  }
 },
 "nbformat": 4,
 "nbformat_minor": 5
}
